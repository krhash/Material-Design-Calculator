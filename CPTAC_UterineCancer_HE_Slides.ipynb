{
  "nbformat": 4,
  "nbformat_minor": 0,
  "metadata": {
    "colab": {
      "provenance": [],
      "authorship_tag": "ABX9TyNnC9B/ynjry/9iC0SXZvf/",
      "include_colab_link": true
    },
    "kernelspec": {
      "name": "python3",
      "display_name": "Python 3"
    },
    "language_info": {
      "name": "python"
    }
  },
  "cells": [
    {
      "cell_type": "markdown",
      "metadata": {
        "id": "view-in-github",
        "colab_type": "text"
      },
      "source": [
        "<a href=\"https://colab.research.google.com/github/krhash/Material-Design-Calculator/blob/master/CPTAC_UterineCancer_HE_Slides.ipynb\" target=\"_parent\"><img src=\"https://colab.research.google.com/assets/colab-badge.svg\" alt=\"Open In Colab\"/></a>"
      ]
    },
    {
      "cell_type": "code",
      "source": [
        "!pip install cptac"
      ],
      "metadata": {
        "colab": {
          "base_uri": "https://localhost:8080/"
        },
        "id": "bvlrYBeiTdFC",
        "outputId": "dd1bc424-fdcd-4cc6-b8de-0d470dda5afa"
      },
      "execution_count": 2,
      "outputs": [
        {
          "output_type": "stream",
          "name": "stdout",
          "text": [
            "Collecting cptac\n",
            "  Downloading cptac-1.5.14-py3-none-any.whl.metadata (8.2 kB)\n",
            "Requirement already satisfied: numpy>=1.16.3 in /usr/local/lib/python3.11/dist-packages (from cptac) (1.26.4)\n",
            "Requirement already satisfied: pandas>=1.5.3 in /usr/local/lib/python3.11/dist-packages (from cptac) (2.2.2)\n",
            "Requirement already satisfied: requests>=2.21.0 in /usr/local/lib/python3.11/dist-packages (from cptac) (2.32.3)\n",
            "Requirement already satisfied: scipy>=1.10.0 in /usr/local/lib/python3.11/dist-packages (from cptac) (1.13.1)\n",
            "Requirement already satisfied: openpyxl>=2.6.0 in /usr/local/lib/python3.11/dist-packages (from cptac) (3.1.5)\n",
            "Requirement already satisfied: statsmodels>=0.10.0 in /usr/local/lib/python3.11/dist-packages (from cptac) (0.14.4)\n",
            "Collecting pyranges>=0.0.111 (from cptac)\n",
            "  Downloading pyranges-0.1.2-py3-none-any.whl.metadata (3.6 kB)\n",
            "Requirement already satisfied: tqdm>=4.65.0 in /usr/local/lib/python3.11/dist-packages (from cptac) (4.67.1)\n",
            "Requirement already satisfied: et-xmlfile in /usr/local/lib/python3.11/dist-packages (from openpyxl>=2.6.0->cptac) (2.0.0)\n",
            "Requirement already satisfied: python-dateutil>=2.8.2 in /usr/local/lib/python3.11/dist-packages (from pandas>=1.5.3->cptac) (2.8.2)\n",
            "Requirement already satisfied: pytz>=2020.1 in /usr/local/lib/python3.11/dist-packages (from pandas>=1.5.3->cptac) (2025.1)\n",
            "Requirement already satisfied: tzdata>=2022.7 in /usr/local/lib/python3.11/dist-packages (from pandas>=1.5.3->cptac) (2025.1)\n",
            "Collecting ncls>=0.0.63 (from pyranges>=0.0.111->cptac)\n",
            "  Downloading ncls-0.0.68-cp311-cp311-manylinux_2_17_x86_64.manylinux2014_x86_64.whl.metadata (4.6 kB)\n",
            "Requirement already satisfied: tabulate in /usr/local/lib/python3.11/dist-packages (from pyranges>=0.0.111->cptac) (0.9.0)\n",
            "Collecting sorted-nearest>=0.0.33 (from pyranges>=0.0.111->cptac)\n",
            "  Downloading sorted_nearest-0.0.39-cp311-cp311-manylinux_2_17_x86_64.manylinux2014_x86_64.whl.metadata (964 bytes)\n",
            "Requirement already satisfied: natsort in /usr/local/lib/python3.11/dist-packages (from pyranges>=0.0.111->cptac) (8.4.0)\n",
            "Requirement already satisfied: charset-normalizer<4,>=2 in /usr/local/lib/python3.11/dist-packages (from requests>=2.21.0->cptac) (3.4.1)\n",
            "Requirement already satisfied: idna<4,>=2.5 in /usr/local/lib/python3.11/dist-packages (from requests>=2.21.0->cptac) (3.10)\n",
            "Requirement already satisfied: urllib3<3,>=1.21.1 in /usr/local/lib/python3.11/dist-packages (from requests>=2.21.0->cptac) (2.3.0)\n",
            "Requirement already satisfied: certifi>=2017.4.17 in /usr/local/lib/python3.11/dist-packages (from requests>=2.21.0->cptac) (2025.1.31)\n",
            "Requirement already satisfied: patsy>=0.5.6 in /usr/local/lib/python3.11/dist-packages (from statsmodels>=0.10.0->cptac) (1.0.1)\n",
            "Requirement already satisfied: packaging>=21.3 in /usr/local/lib/python3.11/dist-packages (from statsmodels>=0.10.0->cptac) (24.2)\n",
            "Requirement already satisfied: six>=1.5 in /usr/local/lib/python3.11/dist-packages (from python-dateutil>=2.8.2->pandas>=1.5.3->cptac) (1.17.0)\n",
            "Downloading cptac-1.5.14-py3-none-any.whl (5.5 MB)\n",
            "\u001b[2K   \u001b[90m━━━━━━━━━━━━━━━━━━━━━━━━━━━━━━━━━━━━━━━━\u001b[0m \u001b[32m5.5/5.5 MB\u001b[0m \u001b[31m28.6 MB/s\u001b[0m eta \u001b[36m0:00:00\u001b[0m\n",
            "\u001b[?25hDownloading pyranges-0.1.2-py3-none-any.whl (1.5 MB)\n",
            "\u001b[2K   \u001b[90m━━━━━━━━━━━━━━━━━━━━━━━━━━━━━━━━━━━━━━━━\u001b[0m \u001b[32m1.5/1.5 MB\u001b[0m \u001b[31m64.5 MB/s\u001b[0m eta \u001b[36m0:00:00\u001b[0m\n",
            "\u001b[?25hDownloading ncls-0.0.68-cp311-cp311-manylinux_2_17_x86_64.manylinux2014_x86_64.whl (2.5 MB)\n",
            "\u001b[2K   \u001b[90m━━━━━━━━━━━━━━━━━━━━━━━━━━━━━━━━━━━━━━━━\u001b[0m \u001b[32m2.5/2.5 MB\u001b[0m \u001b[31m73.0 MB/s\u001b[0m eta \u001b[36m0:00:00\u001b[0m\n",
            "\u001b[?25hDownloading sorted_nearest-0.0.39-cp311-cp311-manylinux_2_17_x86_64.manylinux2014_x86_64.whl (6.2 MB)\n",
            "\u001b[2K   \u001b[90m━━━━━━━━━━━━━━━━━━━━━━━━━━━━━━━━━━━━━━━━\u001b[0m \u001b[32m6.2/6.2 MB\u001b[0m \u001b[31m85.7 MB/s\u001b[0m eta \u001b[36m0:00:00\u001b[0m\n",
            "\u001b[?25hInstalling collected packages: sorted-nearest, ncls, pyranges, cptac\n",
            "Successfully installed cptac-1.5.14 ncls-0.0.68 pyranges-0.1.2 sorted-nearest-0.0.39\n"
          ]
        }
      ]
    },
    {
      "cell_type": "code",
      "source": [
        "import cptac"
      ],
      "metadata": {
        "id": "ipN-Q-OyT2qo"
      },
      "execution_count": 11,
      "outputs": []
    },
    {
      "cell_type": "code",
      "source": [
        "!pip install ncls --only-binary=:all:"
      ],
      "metadata": {
        "colab": {
          "base_uri": "https://localhost:8080/"
        },
        "id": "5o7oyEZTUEUA",
        "outputId": "1c8644d2-54dd-43d3-ea87-a779a8181fc9"
      },
      "execution_count": 15,
      "outputs": [
        {
          "output_type": "stream",
          "name": "stdout",
          "text": [
            "Requirement already satisfied: ncls in /usr/local/lib/python3.11/dist-packages (0.0.68)\n",
            "Requirement already satisfied: numpy in /usr/local/lib/python3.11/dist-packages (from ncls) (1.26.4)\n"
          ]
        }
      ]
    },
    {
      "cell_type": "code",
      "source": [
        "!pip install idc-index --only-binary=:all:"
      ],
      "metadata": {
        "colab": {
          "base_uri": "https://localhost:8080/"
        },
        "id": "Y8azj0PSVEuf",
        "outputId": "245efb6c-599d-4768-ef55-563079f9d300"
      },
      "execution_count": 16,
      "outputs": [
        {
          "output_type": "stream",
          "name": "stdout",
          "text": [
            "Requirement already satisfied: idc-index in /usr/local/lib/python3.11/dist-packages (0.8.2)\n",
            "Requirement already satisfied: click in /usr/local/lib/python3.11/dist-packages (from idc-index) (8.1.8)\n",
            "Requirement already satisfied: duckdb<1.1.0,>=0.10.0 in /usr/local/lib/python3.11/dist-packages (from idc-index) (1.0.0)\n",
            "Requirement already satisfied: idc-index-data==20.0.1 in /usr/local/lib/python3.11/dist-packages (from idc-index) (20.0.1)\n",
            "Requirement already satisfied: packaging in /usr/local/lib/python3.11/dist-packages (from idc-index) (24.2)\n",
            "Requirement already satisfied: pandas<2.2 in /usr/local/lib/python3.11/dist-packages (from idc-index) (2.1.4)\n",
            "Requirement already satisfied: platformdirs in /usr/local/lib/python3.11/dist-packages (from idc-index) (4.3.6)\n",
            "Requirement already satisfied: psutil in /usr/local/lib/python3.11/dist-packages (from idc-index) (5.9.5)\n",
            "Requirement already satisfied: pyarrow in /usr/local/lib/python3.11/dist-packages (from idc-index) (18.1.0)\n",
            "Requirement already satisfied: requests in /usr/local/lib/python3.11/dist-packages (from idc-index) (2.32.3)\n",
            "Requirement already satisfied: s5cmd in /usr/local/lib/python3.11/dist-packages (from idc-index) (0.2.0)\n",
            "Requirement already satisfied: sphinx-click in /usr/local/lib/python3.11/dist-packages (from idc-index) (6.0.0)\n",
            "Requirement already satisfied: tqdm in /usr/local/lib/python3.11/dist-packages (from idc-index) (4.67.1)\n",
            "Requirement already satisfied: numpy<2,>=1.23.2 in /usr/local/lib/python3.11/dist-packages (from pandas<2.2->idc-index) (1.26.4)\n",
            "Requirement already satisfied: python-dateutil>=2.8.2 in /usr/local/lib/python3.11/dist-packages (from pandas<2.2->idc-index) (2.8.2)\n",
            "Requirement already satisfied: pytz>=2020.1 in /usr/local/lib/python3.11/dist-packages (from pandas<2.2->idc-index) (2025.1)\n",
            "Requirement already satisfied: tzdata>=2022.1 in /usr/local/lib/python3.11/dist-packages (from pandas<2.2->idc-index) (2025.1)\n",
            "Requirement already satisfied: charset-normalizer<4,>=2 in /usr/local/lib/python3.11/dist-packages (from requests->idc-index) (3.4.1)\n",
            "Requirement already satisfied: idna<4,>=2.5 in /usr/local/lib/python3.11/dist-packages (from requests->idc-index) (3.10)\n",
            "Requirement already satisfied: urllib3<3,>=1.21.1 in /usr/local/lib/python3.11/dist-packages (from requests->idc-index) (2.3.0)\n",
            "Requirement already satisfied: certifi>=2017.4.17 in /usr/local/lib/python3.11/dist-packages (from requests->idc-index) (2025.1.31)\n",
            "Requirement already satisfied: sphinx>=4.0 in /usr/local/lib/python3.11/dist-packages (from sphinx-click->idc-index) (8.1.3)\n",
            "Requirement already satisfied: docutils in /usr/local/lib/python3.11/dist-packages (from sphinx-click->idc-index) (0.21.2)\n",
            "Requirement already satisfied: six>=1.5 in /usr/local/lib/python3.11/dist-packages (from python-dateutil>=2.8.2->pandas<2.2->idc-index) (1.17.0)\n",
            "Requirement already satisfied: sphinxcontrib-applehelp>=1.0.7 in /usr/local/lib/python3.11/dist-packages (from sphinx>=4.0->sphinx-click->idc-index) (2.0.0)\n",
            "Requirement already satisfied: sphinxcontrib-devhelp>=1.0.6 in /usr/local/lib/python3.11/dist-packages (from sphinx>=4.0->sphinx-click->idc-index) (2.0.0)\n",
            "Requirement already satisfied: sphinxcontrib-htmlhelp>=2.0.6 in /usr/local/lib/python3.11/dist-packages (from sphinx>=4.0->sphinx-click->idc-index) (2.1.0)\n",
            "Requirement already satisfied: sphinxcontrib-jsmath>=1.0.1 in /usr/local/lib/python3.11/dist-packages (from sphinx>=4.0->sphinx-click->idc-index) (1.0.1)\n",
            "Requirement already satisfied: sphinxcontrib-qthelp>=1.0.6 in /usr/local/lib/python3.11/dist-packages (from sphinx>=4.0->sphinx-click->idc-index) (2.0.0)\n",
            "Requirement already satisfied: sphinxcontrib-serializinghtml>=1.1.9 in /usr/local/lib/python3.11/dist-packages (from sphinx>=4.0->sphinx-click->idc-index) (2.0.0)\n",
            "Requirement already satisfied: Jinja2>=3.1 in /usr/local/lib/python3.11/dist-packages (from sphinx>=4.0->sphinx-click->idc-index) (3.1.5)\n",
            "Requirement already satisfied: Pygments>=2.17 in /usr/local/lib/python3.11/dist-packages (from sphinx>=4.0->sphinx-click->idc-index) (2.18.0)\n",
            "Requirement already satisfied: snowballstemmer>=2.2 in /usr/local/lib/python3.11/dist-packages (from sphinx>=4.0->sphinx-click->idc-index) (2.2.0)\n",
            "Requirement already satisfied: babel>=2.13 in /usr/local/lib/python3.11/dist-packages (from sphinx>=4.0->sphinx-click->idc-index) (2.17.0)\n",
            "Requirement already satisfied: alabaster>=0.7.14 in /usr/local/lib/python3.11/dist-packages (from sphinx>=4.0->sphinx-click->idc-index) (1.0.0)\n",
            "Requirement already satisfied: imagesize>=1.3 in /usr/local/lib/python3.11/dist-packages (from sphinx>=4.0->sphinx-click->idc-index) (1.4.1)\n",
            "Requirement already satisfied: MarkupSafe>=2.0 in /usr/local/lib/python3.11/dist-packages (from Jinja2>=3.1->sphinx>=4.0->sphinx-click->idc-index) (3.0.2)\n"
          ]
        }
      ]
    },
    {
      "cell_type": "code",
      "source": [
        "from idc_index import IDCClient\n",
        "\n",
        "client = IDCClient()\n",
        "index_df = client.index  # pandas DataFrame\n",
        "\n",
        "# Filter for CPTAC-UCEC collection and Slide Microscopy (H&E)\n",
        "cptac_ucec_slides = index_df[\n",
        "    (index_df[\"collection_id\"] == \"cptac_ucec\") &\n",
        "    (index_df[\"Modality\"] == \"SM\")  # SM = Slide Microscopy\n",
        "]\n",
        "\n",
        "print(f\"HE Slides Found: {len(cptac_ucec_slides)}\")\n"
      ],
      "metadata": {
        "colab": {
          "base_uri": "https://localhost:8080/"
        },
        "id": "BuYOf8yJYtw9",
        "outputId": "aa502e8a-0380-4945-e520-ea555fe8a35b"
      },
      "execution_count": 21,
      "outputs": [
        {
          "output_type": "stream",
          "name": "stdout",
          "text": [
            "HE Slides Found: 883\n"
          ]
        }
      ]
    },
    {
      "cell_type": "code",
      "source": [
        "\n",
        "# Further filter for NAT annotations using DICOM tags\n",
        "nat_slides = cptac_ucec_slides[\n",
        "    cptac_ucec_slides[\"SeriesDescription\"].str.contains(\"HE normal\", na=False)\n",
        "]\n",
        "print(f\"NAT Slides Found: {len(nat_slides)}\")"
      ],
      "metadata": {
        "colab": {
          "base_uri": "https://localhost:8080/"
        },
        "id": "SJAH0aXjYwy8",
        "outputId": "bf65adad-920f-418f-9304-834767682fcd"
      },
      "execution_count": 25,
      "outputs": [
        {
          "output_type": "stream",
          "name": "stdout",
          "text": [
            "NAT Slides Found: 277\n"
          ]
        }
      ]
    },
    {
      "cell_type": "code",
      "source": [
        "print(cptac_ucec_slides[])"
      ],
      "metadata": {
        "id": "D-SfuC3GZQob"
      },
      "execution_count": null,
      "outputs": []
    }
  ]
}